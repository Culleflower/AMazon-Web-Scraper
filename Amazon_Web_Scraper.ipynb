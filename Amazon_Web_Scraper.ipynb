{
 "cells": [
  {
   "cell_type": "code",
   "execution_count": null,
   "id": "03bb6d3a",
   "metadata": {
    "scrolled": true
   },
   "outputs": [],
   "source": [
    "import csv\n",
    "from bs4 import BeautifulSoup\n",
    "import selenium\n",
    "from selenium import webdriver\n",
    "import webdriver_manager\n",
    "from webdriver_manager.firefox import GeckoDriverManager"
   ]
  },
  {
   "cell_type": "code",
   "execution_count": null,
   "id": "376aba2a",
   "metadata": {
    "scrolled": true
   },
   "outputs": [],
   "source": [
    "driver = webdriver.Firefox(executable_path=GeckoDriverManager().install())\n",
    "\n",
    "url = 'https://www.amazon.com'\n",
    "\n",
    "driver.get(url)"
   ]
  },
  {
   "cell_type": "code",
   "execution_count": null,
   "id": "6cb74bfc",
   "metadata": {},
   "outputs": [],
   "source": [
    "def get_url(search_term):\n",
    "    template = 'https://www.amazon.com/s?k={}&crid=2QRDRMQSAP0KZ&sprefix=linux%2Caps%2C812&ref=nb_sb_noss_1'\n",
    "    search_term = search_term.replace(' ', '+')\n",
    "    return template.format(search_term)"
   ]
  },
  {
   "cell_type": "code",
   "execution_count": null,
   "id": "76c35c18",
   "metadata": {},
   "outputs": [],
   "source": [
    "url = get_url('linux book')\n",
    "print(url)"
   ]
  },
  {
   "cell_type": "code",
   "execution_count": null,
   "id": "390f834b",
   "metadata": {
    "scrolled": true
   },
   "outputs": [],
   "source": [
    "driver.get(url)"
   ]
  },
  {
   "cell_type": "markdown",
   "id": "101cb834",
   "metadata": {},
   "source": [
    "Extract the Collection"
   ]
  },
  {
   "cell_type": "code",
   "execution_count": null,
   "id": "12415067",
   "metadata": {},
   "outputs": [],
   "source": [
    "soup = BeautifulSoup(driver.page_source, 'html.parser')"
   ]
  },
  {
   "cell_type": "code",
   "execution_count": null,
   "id": "524ca732",
   "metadata": {},
   "outputs": [],
   "source": [
    "results = soup.find_all('div', {'data-component-type': 's-search-result'})"
   ]
  },
  {
   "cell_type": "code",
   "execution_count": null,
   "id": "fc8432ad",
   "metadata": {},
   "outputs": [],
   "source": [
    "len(results)"
   ]
  },
  {
   "cell_type": "markdown",
   "id": "caf9ec98",
   "metadata": {},
   "source": [
    "Prototype The Record"
   ]
  },
  {
   "cell_type": "code",
   "execution_count": null,
   "id": "8ce238e1",
   "metadata": {},
   "outputs": [],
   "source": [
    "item = results[0]"
   ]
  },
  {
   "cell_type": "code",
   "execution_count": null,
   "id": "4a9ca9ce",
   "metadata": {},
   "outputs": [],
   "source": [
    "atag = item.h2.a"
   ]
  },
  {
   "cell_type": "code",
   "execution_count": null,
   "id": "fc441456",
   "metadata": {},
   "outputs": [],
   "source": [
    "description = atag.text.strip()"
   ]
  },
  {
   "cell_type": "code",
   "execution_count": null,
   "id": "241dfe7f",
   "metadata": {},
   "outputs": [],
   "source": [
    "url = 'https://www.amazon.com' + atag.get('href')"
   ]
  },
  {
   "cell_type": "code",
   "execution_count": null,
   "id": "d6a37686",
   "metadata": {},
   "outputs": [],
   "source": [
    "price_parent = item.find('span', 'a-price')"
   ]
  },
  {
   "cell_type": "code",
   "execution_count": null,
   "id": "ee03d8ba",
   "metadata": {},
   "outputs": [],
   "source": [
    "price = price_parent.find('span', 'a-offscreen').text"
   ]
  },
  {
   "cell_type": "code",
   "execution_count": null,
   "id": "c4e73bd7",
   "metadata": {},
   "outputs": [],
   "source": [
    "rating = item.i.text"
   ]
  },
  {
   "cell_type": "code",
   "execution_count": null,
   "id": "165d78be",
   "metadata": {
    "scrolled": true
   },
   "outputs": [],
   "source": [
    "review_count = item.find('span', {'class': 'a-size-base', 'dir': 'auto'})"
   ]
  },
  {
   "cell_type": "markdown",
   "id": "b513041a",
   "metadata": {},
   "source": [
    "Generalize the Pattern"
   ]
  },
  {
   "cell_type": "code",
   "execution_count": null,
   "id": "f35b6248",
   "metadata": {},
   "outputs": [],
   "source": [
    "def extract_record(item):\n",
    "    atag = item.h2.a\n",
    "    description = atag.text.strip()\n",
    "    url = 'https://www.amazon.com' + atag.get('href')\n",
    "    \n",
    "    \n",
    "    price_parent = item.find('span', 'a-price')\n",
    "    price = price_parent.find('span', 'a-offscreen').text\n",
    "        \n",
    "    \n",
    "    rating = item.i.text\n",
    "    review_count = item.find('span', {'class': 'a-size-base', 'dir': 'auto'}).text\n",
    "    \n",
    "    #rating = ''\n",
    "    #review_count = ''\n",
    "    \n",
    "    result = (description, price, rating, review_count, url)\n",
    "    \n",
    "    return result"
   ]
  },
  {
   "cell_type": "code",
   "execution_count": null,
   "id": "3aba1921",
   "metadata": {},
   "outputs": [],
   "source": [
    "records = []\n",
    "results = soup.find_all('div', {'data-component-type': 's-search-result'})\n",
    "\n",
    "for item in results:\n",
    "    records.append(extract_record(item))"
   ]
  },
  {
   "cell_type": "markdown",
   "id": "b3d098ad",
   "metadata": {},
   "source": [
    "ERROR HANDLING"
   ]
  },
  {
   "cell_type": "code",
   "execution_count": null,
   "id": "505fceae",
   "metadata": {},
   "outputs": [],
   "source": [
    "def extract_record(item):\n",
    "    atag = item.h2.a\n",
    "    description = atag.text.strip()\n",
    "    url = 'https://www.amazon.com' + atag.get('href')\n",
    "    \n",
    "    try:\n",
    "        price_parent = item.find('span', 'a-price')\n",
    "        price = price_parent.find('span', 'a-offscreen').text\n",
    "    except AttributeError:\n",
    "        return\n",
    "    \n",
    "    try:\n",
    "        rating = item.i.text\n",
    "        review_count = item.find('span', {'class': 'a-size-base', 'dir': 'auto'}).text\n",
    "    except AttributeError:\n",
    "        rating = ''\n",
    "        review_count = ''\n",
    "    \n",
    "    result = (description, price, rating, review_count, url)\n",
    "    \n",
    "    return result"
   ]
  },
  {
   "cell_type": "code",
   "execution_count": null,
   "id": "e2863692",
   "metadata": {},
   "outputs": [],
   "source": [
    "records = []\n",
    "results = soup.find_all('div', {'data-component-type': 's-search-result'})\n",
    "\n",
    "for item in results:\n",
    "    record = extract_record(item)\n",
    "    if record:\n",
    "        records.append(record)"
   ]
  },
  {
   "cell_type": "code",
   "execution_count": null,
   "id": "63bf3314",
   "metadata": {},
   "outputs": [],
   "source": [
    "records[0]"
   ]
  },
  {
   "cell_type": "code",
   "execution_count": null,
   "id": "e2863522",
   "metadata": {},
   "outputs": [],
   "source": [
    "for row in records:\n",
    "    print(row[1])"
   ]
  },
  {
   "cell_type": "markdown",
   "id": "4297be60",
   "metadata": {},
   "source": [
    "Getting To Next Page"
   ]
  },
  {
   "cell_type": "code",
   "execution_count": null,
   "id": "3849921b",
   "metadata": {},
   "outputs": [],
   "source": [
    "def get_url(search_term):\n",
    "    template = 'https://www.amazon.com/s?k={}&crid=2QRDRMQSAP0KZ&sprefix=linux%2Caps%2C812&ref=nb_sb_noss_1'\n",
    "    search_term = search_term.replace(' ', '+')\n",
    "    \n",
    "    url = template.format(search_term)\n",
    "    \n",
    "    url += '&page'\n",
    "    \n",
    "    return url"
   ]
  },
  {
   "cell_type": "code",
   "execution_count": null,
   "id": "2ce60394",
   "metadata": {},
   "outputs": [],
   "source": [
    "import csv\n",
    "from bs4 import BeautifulSoup\n",
    "import selenium\n",
    "from selenium import webdriver\n",
    "import webdriver_manager\n",
    "from webdriver_manager.firefox import GeckoDriverManager\n",
    "import pandas as pd\n",
    "import numpy as np\n",
    "\n",
    "def get_url(search_term):\n",
    "    template = 'https://www.amazon.com/s?k={}&crid=2QRDRMQSAP0KZ&sprefix=linux%2Caps%2C812&ref=nb_sb_noss_1'\n",
    "    search_term = search_term.replace(' ', '+')\n",
    "    \n",
    "    url = template.format(search_term)\n",
    "    \n",
    "    url += '&page'\n",
    "    \n",
    "    return url\n",
    "\n",
    "def extract_record(item):\n",
    "    atag = item.h2.a\n",
    "    description = atag.text.strip()\n",
    "    url = 'https://www.amazon.com' + atag.get('href')\n",
    "    \n",
    "    try:\n",
    "        price_parent = item.find('span', 'a-price')\n",
    "        price = price_parent.find('span', 'a-offscreen').text\n",
    "    except AttributeError:\n",
    "        return\n",
    "    \n",
    "    try:\n",
    "        rating = item.i.text\n",
    "        review_count = item.find('span', {'class': 'a-size-base', 'dir': 'auto'}).text\n",
    "    except AttributeError:\n",
    "        rating = ''\n",
    "        review_count = ''\n",
    "    \n",
    "    result = (description, price, rating, review_count, url)\n",
    "    \n",
    "    return result\n",
    "\n",
    "    \n",
    "def main(search_term):\n",
    "    driver = webdriver.Firefox(executable_path=GeckoDriverManager().install())\n",
    "    url = 'https://www.amazon.com'\n",
    "    driver.get(url)\n",
    "\n",
    "    records = []\n",
    "    url = get_url(search_term)\n",
    "    \n",
    "    for page in range(1, 21):\n",
    "        driver.get(url.format(page))\n",
    "        soup = BeautifulSoup(driver.page_source, 'html.parser')\n",
    "        results = soup.find_all('div', {'data-component-type': 's-search-result'})\n",
    "        \n",
    "        for item in results:\n",
    "            record = extract_record(item)\n",
    "            if record:\n",
    "                records.append(record)\n",
    "                \n",
    "    driver.close()\n",
    "    \n",
    "    with open('results.csv', 'w', newline='', encoding='utf-8') as f:\n",
    "        writer = csv.writer(f)\n",
    "        writer.writerow(['Description', 'Price', 'Rating', 'ReviewCount', 'Url'])\n",
    "        writer.writerows(records)\n",
    "        \n",
    "    #get data from results.csv\n",
    "    df= pd.read_csv('./results.csv')\n",
    "\n",
    "    #Drop unneeded column\n",
    "    df.drop(['Rating','ReviewCount','Url'],axis=1, inplace=True)\n",
    "\n",
    "    #Drop duplicate data\n",
    "    df=df.drop_duplicates()\n",
    "\n",
    "    #Convert prices from objects to floats\n",
    "    df[df.columns[1:]] = df[df.columns[1:]].replace('[\\$,]', '', regex=True).astype(float)\n",
    "\n",
    "    #sort data based on the price- low to high\n",
    "    df=df.sort_values('Price')\n",
    "\n",
    "    df=df.head(50)\n",
    "    \n",
    "    return df"
   ]
  },
  {
   "cell_type": "code",
   "execution_count": null,
   "id": "616565be",
   "metadata": {
    "scrolled": false
   },
   "outputs": [],
   "source": [
    "main('linux book')"
   ]
  },
  {
   "cell_type": "code",
   "execution_count": null,
   "id": "649dc7c5",
   "metadata": {},
   "outputs": [],
   "source": []
  }
 ],
 "metadata": {
  "kernelspec": {
   "display_name": "Python 3 (ipykernel)",
   "language": "python",
   "name": "python3"
  },
  "language_info": {
   "codemirror_mode": {
    "name": "ipython",
    "version": 3
   },
   "file_extension": ".py",
   "mimetype": "text/x-python",
   "name": "python",
   "nbconvert_exporter": "python",
   "pygments_lexer": "ipython3",
   "version": "3.9.7"
  }
 },
 "nbformat": 4,
 "nbformat_minor": 5
}
